{
 "cells": [
  {
   "cell_type": "code",
   "execution_count": 10,
   "id": "6ee84602-38af-46fa-98ab-723e8e86b915",
   "metadata": {},
   "outputs": [],
   "source": [
    "Products = {\"Rice\" :50, \"Mustard Oil\" :120, \"Pulse\" :120,\"Cola\" :100}\n"
   ]
  },
  {
   "cell_type": "code",
   "execution_count": 13,
   "id": "5ea36aae-698a-48b9-9ce5-07350e214405",
   "metadata": {},
   "outputs": [
    {
     "name": "stdout",
     "output_type": "stream",
     "text": [
      "--------------- Welcome To Mart ---------------\n"
     ]
    },
    {
     "name": "stdin",
     "output_type": "stream",
     "text": [
      "enter your name:  ADITYA\n",
      "enter your phone number:  06572297544\n"
     ]
    },
    {
     "name": "stdout",
     "output_type": "stream",
     "text": [
      "------- Product List -------\n",
      "        Rice : 50\n",
      "        Mustard Oil : 120\n",
      "        Pulse : 120\n",
      "        Cola : 100\n"
     ]
    },
    {
     "name": "stdin",
     "output_type": "stream",
     "text": [
      "enter product name you wish to buy:  Pulse\n",
      " enter quantity you want to buy:  3\n",
      "do you want to buy more items?(Yes/No) YES\n",
      "enter product name you wish to buy:  Cola\n",
      " enter quantity you want to buy:  2\n",
      "do you want to buy more items?(Yes/No) NO\n"
     ]
    },
    {
     "name": "stdout",
     "output_type": "stream",
     "text": [
      "----------------------------------------\n",
      "Name:  ADITYA\n",
      "Phone:  06572297544\n",
      "Pulse price:  120 X 3.0 = 360.0\n",
      "Cola price:  100 X 2.0 = 200.0\n",
      "Total Amount:  560.0\n",
      "Discount Applied:  5.0 %\n",
      "----------------------------------------\n",
      "Payable Amount:  532.0\n",
      "----------------------------------------\n"
     ]
    }
   ],
   "source": [
    "print(\"-\"*15,\"Welcome To Mart\", \"-\"*15)\n",
    "\n",
    "cart = {}\n",
    "amount = 0\n",
    "name = input('enter your name: ')\n",
    "ph_no = input ('enter your phone number: ')\n",
    "discount = 0\n",
    "\n",
    "print('-'*7, \"Product List\", \"-\"*7)\n",
    "for i,j in Products.items():\n",
    "       print(' '*7,i, \":\", j)\n",
    "\n",
    "\n",
    "while True :\n",
    "    p_name =  product_name = input('enter product name you wish to buy: ').capitalize()\n",
    "    quantity =float(input(' enter quantity you want to buy: '))\n",
    "    val=[]\n",
    "    val.append(Products[p_name])\n",
    "    val.append(quantity)\n",
    "    val.append(quantity*Products[p_name])\n",
    "    cart[p_name]= val\n",
    "    amount += Products[p_name]*quantity\n",
    "    repeat = input(\"do you want to buy more items?(Yes/No)\").capitalize()\n",
    "    if repeat ==\"No\":\n",
    "         break\n",
    "if amount <= 500:\n",
    "    discount = 0\n",
    "elif  amount <= 1000:\n",
    "    discount = 0.05\n",
    "elif  amount <= 3000:\n",
    "    discount = 0.10\n",
    "else :\n",
    "    discount = 0.15\n",
    "\n",
    "act_amount = amount-(amount*discount)\n",
    "print(\"-\"*40)\n",
    "print(\"Name: \",name)\n",
    "print(\"Phone: \", ph_no)\n",
    "for i,j in cart.items():\n",
    "    print(i,\"price: \",j[0],\"X\",j[1],\"=\",j[2])\n",
    "print(\"Total Amount: \",amount)\n",
    "print(\"Discount Applied: \",discount*100,\"%\")\n",
    "print(\"-\"*40)\n",
    "print(\"Payable Amount: \",act_amount)\n",
    "print(\"-\"*40)\n",
    "    "
   ]
  },
  {
   "cell_type": "code",
   "execution_count": null,
   "id": "07464a9f-5b37-4de3-84d0-8698ec1e169c",
   "metadata": {},
   "outputs": [],
   "source": []
  },
  {
   "cell_type": "code",
   "execution_count": null,
   "id": "5495f4ae-b8ad-40de-ab60-88470f05447d",
   "metadata": {},
   "outputs": [],
   "source": []
  },
  {
   "cell_type": "code",
   "execution_count": null,
   "id": "96ec1423-f9bd-4c59-b834-a56397e735f3",
   "metadata": {},
   "outputs": [],
   "source": []
  },
  {
   "cell_type": "code",
   "execution_count": null,
   "id": "0311bf56-cc8b-4933-b7d0-b146e8e1c937",
   "metadata": {},
   "outputs": [],
   "source": []
  },
  {
   "cell_type": "code",
   "execution_count": null,
   "id": "03289ea7-7ac4-4edd-9ad1-7d2372a4cd04",
   "metadata": {},
   "outputs": [],
   "source": []
  },
  {
   "cell_type": "code",
   "execution_count": null,
   "id": "2cdf4980-a796-46fd-9032-4cebc869f947",
   "metadata": {},
   "outputs": [],
   "source": []
  },
  {
   "cell_type": "code",
   "execution_count": null,
   "id": "0b2b005a-b354-460e-a5ef-916c545d5c48",
   "metadata": {},
   "outputs": [],
   "source": []
  }
 ],
 "metadata": {
  "kernelspec": {
   "display_name": "Python 3 (ipykernel)",
   "language": "python",
   "name": "python3"
  },
  "language_info": {
   "codemirror_mode": {
    "name": "ipython",
    "version": 3
   },
   "file_extension": ".py",
   "mimetype": "text/x-python",
   "name": "python",
   "nbconvert_exporter": "python",
   "pygments_lexer": "ipython3",
   "version": "3.13.2"
  }
 },
 "nbformat": 4,
 "nbformat_minor": 5
}
